{
 "cells": [
  {
   "cell_type": "markdown",
   "id": "32f02c65",
   "metadata": {},
   "source": [
    "# LGMVIP- Task 2 (Beginner level)\n",
    "\n",
    "# Stock Market Prediction And Forecasting Using Stacked LSTM"
   ]
  },
  {
   "cell_type": "markdown",
   "id": "1f6e19a4",
   "metadata": {},
   "source": [
    "#   "
   ]
  },
  {
   "cell_type": "markdown",
   "id": "b9252d09",
   "metadata": {},
   "source": [
    "## Imports/Initial Data"
   ]
  },
  {
   "cell_type": "markdown",
   "id": "0d9c0514",
   "metadata": {},
   "source": [
    "In this Notebook, we will use a keras Long Short-Term Memory (LSTM) model to predict the stock price of Tata Global Beverages"
   ]
  },
  {
   "cell_type": "markdown",
   "id": "fbebae60",
   "metadata": {},
   "source": [
    "Here are some imports we need to make: numpy for scientific computation, matplotlib for graphing, and pandas for manipulating data."
   ]
  },
  {
   "cell_type": "code",
   "execution_count": 2,
   "id": "ce36290b",
   "metadata": {},
   "outputs": [],
   "source": [
    "import numpy as np\n",
    "import matplotlib.pyplot as plt\n",
    "import pandas as pd"
   ]
  },
  {
   "cell_type": "markdown",
   "id": "2f9b131d",
   "metadata": {},
   "source": [
    "Load training data set with the \"Open\" and \"High\" columns to use in our modeling."
   ]
  },
  {
   "cell_type": "code",
   "execution_count": 3,
   "id": "7e0f9fa0",
   "metadata": {},
   "outputs": [],
   "source": [
    "dataset_train = pd.read_csv('C:/Users/Hrishikesh Choraghe/Desktop/LGMVIP/StockMarketPredictionAndForecastingUsingStackedLSTM/NSE-TATAGLOBAL.csv')\n",
    "training_set = dataset_train.iloc[:, 1:2].values"
   ]
  },
  {
   "cell_type": "markdown",
   "id": "435cd51f",
   "metadata": {},
   "source": [
    "Let's take a look at the first five rows of our dataset"
   ]
  },
  {
   "cell_type": "code",
   "execution_count": 4,
   "id": "1ad199f9",
   "metadata": {},
   "outputs": [
    {
     "data": {
      "text/html": [
       "<div>\n",
       "<style scoped>\n",
       "    .dataframe tbody tr th:only-of-type {\n",
       "        vertical-align: middle;\n",
       "    }\n",
       "\n",
       "    .dataframe tbody tr th {\n",
       "        vertical-align: top;\n",
       "    }\n",
       "\n",
       "    .dataframe thead th {\n",
       "        text-align: right;\n",
       "    }\n",
       "</style>\n",
       "<table border=\"1\" class=\"dataframe\">\n",
       "  <thead>\n",
       "    <tr style=\"text-align: right;\">\n",
       "      <th></th>\n",
       "      <th>Date</th>\n",
       "      <th>Open</th>\n",
       "      <th>High</th>\n",
       "      <th>Low</th>\n",
       "      <th>Last</th>\n",
       "      <th>Close</th>\n",
       "      <th>Total Trade Quantity</th>\n",
       "      <th>Turnover (Lacs)</th>\n",
       "    </tr>\n",
       "  </thead>\n",
       "  <tbody>\n",
       "    <tr>\n",
       "      <th>0</th>\n",
       "      <td>2018-09-28</td>\n",
       "      <td>234.05</td>\n",
       "      <td>235.95</td>\n",
       "      <td>230.20</td>\n",
       "      <td>233.50</td>\n",
       "      <td>233.75</td>\n",
       "      <td>3069914</td>\n",
       "      <td>7162.35</td>\n",
       "    </tr>\n",
       "    <tr>\n",
       "      <th>1</th>\n",
       "      <td>2018-09-27</td>\n",
       "      <td>234.55</td>\n",
       "      <td>236.80</td>\n",
       "      <td>231.10</td>\n",
       "      <td>233.80</td>\n",
       "      <td>233.25</td>\n",
       "      <td>5082859</td>\n",
       "      <td>11859.95</td>\n",
       "    </tr>\n",
       "    <tr>\n",
       "      <th>2</th>\n",
       "      <td>2018-09-26</td>\n",
       "      <td>240.00</td>\n",
       "      <td>240.00</td>\n",
       "      <td>232.50</td>\n",
       "      <td>235.00</td>\n",
       "      <td>234.25</td>\n",
       "      <td>2240909</td>\n",
       "      <td>5248.60</td>\n",
       "    </tr>\n",
       "    <tr>\n",
       "      <th>3</th>\n",
       "      <td>2018-09-25</td>\n",
       "      <td>233.30</td>\n",
       "      <td>236.75</td>\n",
       "      <td>232.00</td>\n",
       "      <td>236.25</td>\n",
       "      <td>236.10</td>\n",
       "      <td>2349368</td>\n",
       "      <td>5503.90</td>\n",
       "    </tr>\n",
       "    <tr>\n",
       "      <th>4</th>\n",
       "      <td>2018-09-24</td>\n",
       "      <td>233.55</td>\n",
       "      <td>239.20</td>\n",
       "      <td>230.75</td>\n",
       "      <td>234.00</td>\n",
       "      <td>233.30</td>\n",
       "      <td>3423509</td>\n",
       "      <td>7999.55</td>\n",
       "    </tr>\n",
       "  </tbody>\n",
       "</table>\n",
       "</div>"
      ],
      "text/plain": [
       "         Date    Open    High     Low    Last   Close  Total Trade Quantity  \\\n",
       "0  2018-09-28  234.05  235.95  230.20  233.50  233.75               3069914   \n",
       "1  2018-09-27  234.55  236.80  231.10  233.80  233.25               5082859   \n",
       "2  2018-09-26  240.00  240.00  232.50  235.00  234.25               2240909   \n",
       "3  2018-09-25  233.30  236.75  232.00  236.25  236.10               2349368   \n",
       "4  2018-09-24  233.55  239.20  230.75  234.00  233.30               3423509   \n",
       "\n",
       "   Turnover (Lacs)  \n",
       "0          7162.35  \n",
       "1         11859.95  \n",
       "2          5248.60  \n",
       "3          5503.90  \n",
       "4          7999.55  "
      ]
     },
     "execution_count": 4,
     "metadata": {},
     "output_type": "execute_result"
    }
   ],
   "source": [
    "dataset_train.head()"
   ]
  },
  {
   "cell_type": "markdown",
   "id": "fe7e05d4",
   "metadata": {},
   "source": [
    "## Data Normalisation"
   ]
  },
  {
   "cell_type": "markdown",
   "id": "bc8e162a",
   "metadata": {},
   "source": [
    "Import MinMaxScaler from scikit-learn to scale our dataset into numbers between 0 and 1"
   ]
  },
  {
   "cell_type": "code",
   "execution_count": 5,
   "id": "e43a4a5b",
   "metadata": {},
   "outputs": [],
   "source": [
    "from sklearn.preprocessing import MinMaxScaler\n",
    "sc = MinMaxScaler(feature_range=(0,1))\n",
    "training_set_scaled = sc.fit_transform(training_set)"
   ]
  },
  {
   "cell_type": "markdown",
   "id": "286084c3",
   "metadata": {},
   "source": [
    "## Incorporating Timesteps Into Data"
   ]
  },
  {
   "cell_type": "markdown",
   "id": "a1f73c5a",
   "metadata": {},
   "source": [
    "We want our data to be in the form of a 3D array for our LSTM model. First, we create data in 60 timesteps and convert it into an array using NumPy. Then, we convert the data into a 3D array with X_train samples, 60 timestamps, and one feature at each step."
   ]
  },
  {
   "cell_type": "code",
   "execution_count": 6,
   "id": "6f05c0fa",
   "metadata": {},
   "outputs": [],
   "source": [
    "X_train = []\n",
    "y_train = []\n",
    "for i in range(60, 2035):\n",
    "    X_train.append(training_set_scaled[i-60:i, 0])\n",
    "    y_train.append(training_set_scaled[i, 0])\n",
    "X_train, y_train = np.array(X_train), np.array(y_train)\n",
    "X_train = np.reshape(X_train, (X_train.shape[0], X_train.shape[1], 1))"
   ]
  },
  {
   "cell_type": "markdown",
   "id": "e68df5a2",
   "metadata": {},
   "source": [
    "## Creating the LSTM Model"
   ]
  },
  {
   "cell_type": "markdown",
   "id": "80b715be",
   "metadata": {},
   "source": [
    "Make the necessary imports from keras"
   ]
  },
  {
   "cell_type": "code",
   "execution_count": 7,
   "id": "21b8624a",
   "metadata": {},
   "outputs": [],
   "source": [
    "from keras.models import Sequential\n",
    "from keras.layers import LSTM\n",
    "from keras.layers import Dropout\n",
    "from keras.layers import Dense"
   ]
  },
  {
   "cell_type": "markdown",
   "id": "d008dc29",
   "metadata": {},
   "source": [
    "Add LSTM layer along with dropout layers to prevent overfitting. After that, we add a Dense layer that specifies a one unit output. Next, we compile the model using the adam optimizer and set the loss as the mean_squarred_error"
   ]
  },
  {
   "cell_type": "code",
   "execution_count": 9,
   "id": "15417f47",
   "metadata": {
    "scrolled": true
   },
   "outputs": [
    {
     "name": "stdout",
     "output_type": "stream",
     "text": [
      "Epoch 1/100\n",
      "62/62 [==============================] - 6s 36ms/step - loss: 0.0112\n",
      "Epoch 2/100\n",
      "62/62 [==============================] - 2s 37ms/step - loss: 0.0029\n",
      "Epoch 3/100\n",
      "62/62 [==============================] - 2s 38ms/step - loss: 0.0026\n",
      "Epoch 4/100\n",
      "62/62 [==============================] - 2s 37ms/step - loss: 0.0025\n",
      "Epoch 5/100\n",
      "62/62 [==============================] - 2s 37ms/step - loss: 0.0027\n",
      "Epoch 6/100\n",
      "62/62 [==============================] - 2s 38ms/step - loss: 0.0024\n",
      "Epoch 7/100\n",
      "62/62 [==============================] - 2s 37ms/step - loss: 0.0023\n",
      "Epoch 8/100\n",
      "62/62 [==============================] - 2s 37ms/step - loss: 0.0021\n",
      "Epoch 9/100\n",
      "62/62 [==============================] - 2s 37ms/step - loss: 0.0026\n",
      "Epoch 10/100\n",
      "62/62 [==============================] - 2s 37ms/step - loss: 0.0018\n",
      "Epoch 11/100\n",
      "62/62 [==============================] - 2s 37ms/step - loss: 0.0017\n",
      "Epoch 12/100\n",
      "62/62 [==============================] - 2s 36ms/step - loss: 0.0016\n",
      "Epoch 13/100\n",
      "62/62 [==============================] - 2s 37ms/step - loss: 0.0017\n",
      "Epoch 14/100\n",
      "62/62 [==============================] - 2s 37ms/step - loss: 0.0015\n",
      "Epoch 15/100\n",
      "62/62 [==============================] - 2s 36ms/step - loss: 0.0016\n",
      "Epoch 16/100\n",
      "62/62 [==============================] - 2s 36ms/step - loss: 0.0018\n",
      "Epoch 17/100\n",
      "62/62 [==============================] - 2s 37ms/step - loss: 0.0016\n",
      "Epoch 18/100\n",
      "62/62 [==============================] - 2s 37ms/step - loss: 0.0013\n",
      "Epoch 19/100\n",
      "62/62 [==============================] - 2s 37ms/step - loss: 0.0014\n",
      "Epoch 20/100\n",
      "62/62 [==============================] - 2s 37ms/step - loss: 0.0019\n",
      "Epoch 21/100\n",
      "62/62 [==============================] - 2s 37ms/step - loss: 0.0013\n",
      "Epoch 22/100\n",
      "62/62 [==============================] - 2s 37ms/step - loss: 0.0013\n",
      "Epoch 23/100\n",
      "62/62 [==============================] - 2s 37ms/step - loss: 0.0013\n",
      "Epoch 24/100\n",
      "62/62 [==============================] - 2s 37ms/step - loss: 0.0012\n",
      "Epoch 25/100\n",
      "62/62 [==============================] - 2s 37ms/step - loss: 0.0013\n",
      "Epoch 26/100\n",
      "62/62 [==============================] - 2s 37ms/step - loss: 0.0011\n",
      "Epoch 27/100\n",
      "62/62 [==============================] - 2s 37ms/step - loss: 9.8866e-04\n",
      "Epoch 28/100\n",
      "62/62 [==============================] - 2s 37ms/step - loss: 0.0012\n",
      "Epoch 29/100\n",
      "62/62 [==============================] - 2s 37ms/step - loss: 0.0011\n",
      "Epoch 30/100\n",
      "62/62 [==============================] - 2s 37ms/step - loss: 0.0011\n",
      "Epoch 31/100\n",
      "62/62 [==============================] - 2s 37ms/step - loss: 0.0012\n",
      "Epoch 32/100\n",
      "62/62 [==============================] - 2s 37ms/step - loss: 0.0012\n",
      "Epoch 33/100\n",
      "62/62 [==============================] - 2s 37ms/step - loss: 0.0010\n",
      "Epoch 34/100\n",
      "62/62 [==============================] - 2s 37ms/step - loss: 0.0010\n",
      "Epoch 35/100\n",
      "62/62 [==============================] - 2s 37ms/step - loss: 0.0011\n",
      "Epoch 36/100\n",
      "62/62 [==============================] - 2s 37ms/step - loss: 9.3287e-04\n",
      "Epoch 37/100\n",
      "62/62 [==============================] - 2s 36ms/step - loss: 9.9082e-04\n",
      "Epoch 38/100\n",
      "62/62 [==============================] - 2s 36ms/step - loss: 0.0011\n",
      "Epoch 39/100\n",
      "62/62 [==============================] - 2s 37ms/step - loss: 0.0011\n",
      "Epoch 40/100\n",
      "62/62 [==============================] - 2s 37ms/step - loss: 0.0010\n",
      "Epoch 41/100\n",
      "62/62 [==============================] - 2s 37ms/step - loss: 8.8299e-04\n",
      "Epoch 42/100\n",
      "62/62 [==============================] - 2s 37ms/step - loss: 9.8945e-04\n",
      "Epoch 43/100\n",
      "62/62 [==============================] - 2s 37ms/step - loss: 9.2478e-04\n",
      "Epoch 44/100\n",
      "62/62 [==============================] - 2s 36ms/step - loss: 9.9438e-04\n",
      "Epoch 45/100\n",
      "62/62 [==============================] - 2s 37ms/step - loss: 8.2442e-04\n",
      "Epoch 46/100\n",
      "62/62 [==============================] - 2s 37ms/step - loss: 9.1576e-04\n",
      "Epoch 47/100\n",
      "62/62 [==============================] - 2s 37ms/step - loss: 8.5970e-04\n",
      "Epoch 48/100\n",
      "62/62 [==============================] - 2s 37ms/step - loss: 8.3348e-04\n",
      "Epoch 49/100\n",
      "62/62 [==============================] - 2s 37ms/step - loss: 8.7330e-04\n",
      "Epoch 50/100\n",
      "62/62 [==============================] - 2s 36ms/step - loss: 8.0363e-04\n",
      "Epoch 51/100\n",
      "62/62 [==============================] - 2s 37ms/step - loss: 8.2729e-04\n",
      "Epoch 52/100\n",
      "62/62 [==============================] - 2s 37ms/step - loss: 8.7610e-04\n",
      "Epoch 53/100\n",
      "62/62 [==============================] - 2s 37ms/step - loss: 7.9409e-04\n",
      "Epoch 54/100\n",
      "62/62 [==============================] - 2s 37ms/step - loss: 7.9103e-04\n",
      "Epoch 55/100\n",
      "62/62 [==============================] - 2s 36ms/step - loss: 8.2696e-04\n",
      "Epoch 56/100\n",
      "62/62 [==============================] - 2s 36ms/step - loss: 7.1349e-04\n",
      "Epoch 57/100\n",
      "62/62 [==============================] - 2s 36ms/step - loss: 8.6180e-04\n",
      "Epoch 58/100\n",
      "62/62 [==============================] - 2s 37ms/step - loss: 8.6904e-04\n",
      "Epoch 59/100\n",
      "62/62 [==============================] - 2s 37ms/step - loss: 7.7210e-04\n",
      "Epoch 60/100\n",
      "62/62 [==============================] - 2s 36ms/step - loss: 7.5551e-04\n",
      "Epoch 61/100\n",
      "62/62 [==============================] - 2s 37ms/step - loss: 6.9551e-04\n",
      "Epoch 62/100\n",
      "62/62 [==============================] - 2s 37ms/step - loss: 8.2860e-04\n",
      "Epoch 63/100\n",
      "62/62 [==============================] - 2s 37ms/step - loss: 7.7558e-04\n",
      "Epoch 64/100\n",
      "62/62 [==============================] - 2s 37ms/step - loss: 6.6991e-04\n",
      "Epoch 65/100\n",
      "62/62 [==============================] - 2s 37ms/step - loss: 6.8223e-04\n",
      "Epoch 66/100\n",
      "62/62 [==============================] - 2s 37ms/step - loss: 8.4185e-04\n",
      "Epoch 67/100\n",
      "62/62 [==============================] - 2s 37ms/step - loss: 6.5944e-04\n",
      "Epoch 68/100\n",
      "62/62 [==============================] - 2s 36ms/step - loss: 7.1646e-04\n",
      "Epoch 69/100\n",
      "62/62 [==============================] - 2s 37ms/step - loss: 6.1979e-04\n",
      "Epoch 70/100\n",
      "62/62 [==============================] - 2s 37ms/step - loss: 6.7336e-04\n",
      "Epoch 71/100\n",
      "62/62 [==============================] - 2s 36ms/step - loss: 7.4763e-04\n",
      "Epoch 72/100\n",
      "62/62 [==============================] - 2s 36ms/step - loss: 6.8916e-04\n",
      "Epoch 73/100\n",
      "62/62 [==============================] - 2s 37ms/step - loss: 7.1410e-04\n",
      "Epoch 74/100\n",
      "62/62 [==============================] - 2s 37ms/step - loss: 7.0268e-04\n",
      "Epoch 75/100\n",
      "62/62 [==============================] - 2s 36ms/step - loss: 7.7957e-04\n",
      "Epoch 76/100\n",
      "62/62 [==============================] - 2s 37ms/step - loss: 5.8856e-04\n",
      "Epoch 77/100\n",
      "62/62 [==============================] - 2s 37ms/step - loss: 6.8301e-04\n",
      "Epoch 78/100\n",
      "62/62 [==============================] - 2s 37ms/step - loss: 6.5843e-04\n",
      "Epoch 79/100\n",
      "62/62 [==============================] - 2s 37ms/step - loss: 7.8222e-04\n",
      "Epoch 80/100\n",
      "62/62 [==============================] - 2s 37ms/step - loss: 8.0868e-04\n",
      "Epoch 81/100\n",
      "62/62 [==============================] - 2s 37ms/step - loss: 6.8390e-04\n",
      "Epoch 82/100\n",
      "62/62 [==============================] - 2s 37ms/step - loss: 6.2057e-04\n",
      "Epoch 83/100\n",
      "62/62 [==============================] - 2s 36ms/step - loss: 6.4653e-04\n",
      "Epoch 84/100\n",
      "62/62 [==============================] - 2s 37ms/step - loss: 5.9212e-04\n",
      "Epoch 85/100\n",
      "62/62 [==============================] - 2s 37ms/step - loss: 6.6529e-04\n",
      "Epoch 86/100\n",
      "62/62 [==============================] - 2s 37ms/step - loss: 6.5253e-04\n",
      "Epoch 87/100\n",
      "62/62 [==============================] - 2s 37ms/step - loss: 6.9581e-04\n",
      "Epoch 88/100\n",
      "62/62 [==============================] - 2s 37ms/step - loss: 6.9846e-04\n",
      "Epoch 89/100\n",
      "62/62 [==============================] - 2s 37ms/step - loss: 6.4739e-04\n",
      "Epoch 90/100\n",
      "62/62 [==============================] - 2s 37ms/step - loss: 6.2779e-04\n",
      "Epoch 91/100\n",
      "62/62 [==============================] - 2s 37ms/step - loss: 6.7863e-04\n",
      "Epoch 92/100\n",
      "62/62 [==============================] - 2s 37ms/step - loss: 6.5240e-04\n",
      "Epoch 93/100\n",
      "62/62 [==============================] - 2s 38ms/step - loss: 7.9704e-04\n",
      "Epoch 94/100\n",
      "62/62 [==============================] - 2s 37ms/step - loss: 6.7245e-04\n",
      "Epoch 95/100\n",
      "62/62 [==============================] - 2s 37ms/step - loss: 8.4502e-04\n",
      "Epoch 96/100\n",
      "62/62 [==============================] - 2s 37ms/step - loss: 5.7047e-04\n",
      "Epoch 97/100\n",
      "62/62 [==============================] - 2s 37ms/step - loss: 7.9630e-04\n",
      "Epoch 98/100\n"
     ]
    },
    {
     "name": "stdout",
     "output_type": "stream",
     "text": [
      "62/62 [==============================] - 2s 37ms/step - loss: 6.5060e-04\n",
      "Epoch 99/100\n",
      "62/62 [==============================] - 2s 37ms/step - loss: 6.5141e-04\n",
      "Epoch 100/100\n",
      "62/62 [==============================] - 2s 36ms/step - loss: 6.5188e-04\n"
     ]
    },
    {
     "data": {
      "text/plain": [
       "<keras.callbacks.History at 0x1387f93c250>"
      ]
     },
     "execution_count": 9,
     "metadata": {},
     "output_type": "execute_result"
    }
   ],
   "source": [
    "model = Sequential()\n",
    "\n",
    "model.add(LSTM(units=50,return_sequences=True,input_shape=(X_train.shape[1], 1)))\n",
    "model.add(Dropout(0.2))\n",
    "\n",
    "model.add(LSTM(units=50,return_sequences=True))\n",
    "model.add(Dropout(0.2))\n",
    "\n",
    "model.add(LSTM(units=50,return_sequences=True))\n",
    "model.add(Dropout(0.2))\n",
    "\n",
    "model.add(LSTM(units=50))\n",
    "model.add(Dropout(0.2))\n",
    "\n",
    "model.add(Dense(units=1))\n",
    "\n",
    "model.compile(optimizer='adam',loss='mean_squared_error')\n",
    "\n",
    "model.fit(X_train,y_train,epochs=100,batch_size=32)"
   ]
  },
  {
   "cell_type": "markdown",
   "id": "4819056d",
   "metadata": {},
   "source": [
    "## Making Predictions on the Test Set"
   ]
  },
  {
   "cell_type": "markdown",
   "id": "790dd3a8",
   "metadata": {},
   "source": [
    "Import the test set for the model to make predictions on"
   ]
  },
  {
   "cell_type": "code",
   "execution_count": 10,
   "id": "8d125b67",
   "metadata": {},
   "outputs": [],
   "source": [
    "dataset_test = pd.read_csv('C:/Users/Hrishikesh Choraghe/Desktop/LGMVIP/StockMarketPredictionAndForecastingUsingStackedLSTM/Sample_Stock_test.csv')\n",
    "real_stock_price = dataset_test.iloc[:, 1:2].values"
   ]
  },
  {
   "cell_type": "markdown",
   "id": "e733dfd7",
   "metadata": {},
   "source": [
    "Before predicting future stock prices, we have to manipulate the training set; we merge the training set and the test set on the 0 axis, set the time step to 60, use minmaxscaler, and reshape the dataset as done previously. After making predictions, we use inverse_transform to get back the stock prices in normal readable format."
   ]
  },
  {
   "cell_type": "code",
   "execution_count": 11,
   "id": "513f2985",
   "metadata": {},
   "outputs": [],
   "source": [
    "dataset_total = pd.concat((dataset_train['Open'], dataset_test['Open']), axis = 0)\n",
    "inputs = dataset_total[len(dataset_total) - len(dataset_test) - 60:].values\n",
    "inputs = inputs.reshape(-1,1)\n",
    "inputs = sc.transform(inputs)\n",
    "X_test = []\n",
    "for i in range(60, 76):\n",
    "    X_test.append(inputs[i-60:i, 0])\n",
    "X_test = np.array(X_test)\n",
    "X_test = np.reshape(X_test, (X_test.shape[0], X_test.shape[1], 1))\n",
    "predicted_stock_price = model.predict(X_test)\n",
    "predicted_stock_price = sc.inverse_transform(predicted_stock_price)"
   ]
  },
  {
   "cell_type": "markdown",
   "id": "a591ccf6",
   "metadata": {},
   "source": [
    "## Plotting the Results"
   ]
  },
  {
   "cell_type": "markdown",
   "id": "58238c9c",
   "metadata": {},
   "source": [
    "Plot our predicted stock prices and the actual stock price"
   ]
  },
  {
   "cell_type": "code",
   "execution_count": 12,
   "id": "b178c753",
   "metadata": {},
   "outputs": [
    {
     "data": {
      "image/png": "[encoded data removed]",
      "text/plain": [
       "<Figure size 432x288 with 1 Axes>"
      ]
     },
     "metadata": {
      "needs_background": "light"
     },
     "output_type": "display_data"
    }
   ],
   "source": [
    "plt.plot(real_stock_price, color = 'black', label = 'TATA Stock Price')\n",
    "plt.plot(predicted_stock_price, color = 'green', label = 'Predicted TATA Stock Price')\n",
    "plt.title('TATA Stock Price Prediction')\n",
    "plt.xlabel('Time')\n",
    "plt.ylabel('TATA Stock Price')\n",
    "plt.legend()\n",
    "plt.show()"
   ]
  },
  {
   "cell_type": "code",
   "execution_count": null,
   "id": "fe6427a1",
   "metadata": {},
   "outputs": [],
   "source": []
  }
 ],
 "metadata": {
  "kernelspec": {
   "display_name": "Python 3 (ipykernel)",
   "language": "python",
   "name": "python3"
  },
  "language_info": {
   "codemirror_mode": {
    "name": "ipython",
    "version": 3
   },
   "file_extension": ".py",
   "mimetype": "text/x-python",
   "name": "python",
   "nbconvert_exporter": "python",
   "pygments_lexer": "ipython3",
   "version": "3.10.2"
  }
 },
 "nbformat": 4,
 "nbformat_minor": 5
}
